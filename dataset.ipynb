{
 "cells": [
  {
   "cell_type": "code",
   "execution_count": null,
   "metadata": {},
   "outputs": [],
   "source": [
    "from torchtext.datasets import Multi30k\n",
    "from torchtext.data.utils import get_tokenizer\n",
    "from torchtext.vocab import build_vocab_from_iterator\n",
    "from torch.utils.data import DataLoader"
   ]
  },
  {
   "cell_type": "code",
   "execution_count": null,
   "metadata": {},
   "outputs": [],
   "source": [
    "src = \"An apple a day keeps the doctor away\"\n",
    "src_tensor = None\n"
   ]
  },
  {
   "cell_type": "code",
   "execution_count": null,
   "metadata": {},
   "outputs": [],
   "source": [
    "tokenizer_en = get_tokenizer('spacy', language='en_core_web_sm')\n",
    "tokenizer_de = get_tokenizer('spacy', language='de_core_news_sm')"
   ]
  },
  {
   "cell_type": "code",
   "execution_count": null,
   "metadata": {},
   "outputs": [],
   "source": [
    "tokenizer_en(\"a bag on the desk\")"
   ]
  },
  {
   "cell_type": "code",
   "execution_count": null,
   "metadata": {},
   "outputs": [],
   "source": [
    "train_iter = Multi30k(root=\".data\", split='train', language_pair=('de', 'en'))\n"
   ]
  },
  {
   "cell_type": "code",
   "execution_count": null,
   "metadata": {},
   "outputs": [],
   "source": [
    "def yield_tokens(data_iter, tokenizer, language):\n",
    "    for data_sample in data_iter:\n",
    "        yield tokenizer(data_sample[language])"
   ]
  },
  {
   "cell_type": "code",
   "execution_count": 25,
   "metadata": {},
   "outputs": [
    {
     "name": "stderr",
     "output_type": "stream",
     "text": [
      "/home/test01/anaconda3/envs/last/lib/python3.9/site-packages/torch/utils/data/datapipes/iter/combining.py:337: UserWarning: Some child DataPipes are not exhausted when __iter__ is called. We are resetting the buffer and each child DataPipe will read from the start again.\n",
      "  warnings.warn(\"Some child DataPipes are not exhausted when __iter__ is called. We are resetting \"\n"
     ]
    },
    {
     "data": {
      "text/plain": [
       "('Zwei junge weiße Männer sind im Freien in der Nähe vieler Büsche.',\n",
       " 'Two young, White males are outside near many bushes.')"
      ]
     },
     "execution_count": 25,
     "metadata": {},
     "output_type": "execute_result"
    }
   ],
   "source": [
    "first = None\n",
    "for i in train_iter:\n",
    "    first = i\n",
    "    break\n",
    "first"
   ]
  },
  {
   "cell_type": "code",
   "execution_count": null,
   "metadata": {},
   "outputs": [],
   "source": [
    "first[0]"
   ]
  },
  {
   "cell_type": "code",
   "execution_count": null,
   "metadata": {},
   "outputs": [],
   "source": [
    "first[1]"
   ]
  },
  {
   "cell_type": "code",
   "execution_count": null,
   "metadata": {},
   "outputs": [],
   "source": [
    "tokenizer_de(first[0])"
   ]
  },
  {
   "cell_type": "code",
   "execution_count": null,
   "metadata": {},
   "outputs": [],
   "source": [
    "# 构建词汇表\n",
    "vocab_de = build_vocab_from_iterator(\n",
    "    yield_tokens(train_iter, tokenizer_de, language=0),\n",
    "    specials=['<unk>', '<pad>', '<bos>', '<eos>'],\n",
    "    min_freq=2\n",
    ")\n",
    "vocab_en = build_vocab_from_iterator(\n",
    "    yield_tokens(train_iter, tokenizer_en, language=1),\n",
    "    specials=['<unk>', '<pad>', '<bos>', '<eos>'],\n",
    "    min_freq=2\n",
    ")\n",
    "\n",
    "# 设置默认未知词标记\n",
    "vocab_de.set_default_index(vocab_de['<unk>'])\n",
    "vocab_en.set_default_index(vocab_en['<unk>'])"
   ]
  },
  {
   "cell_type": "code",
   "execution_count": null,
   "metadata": {},
   "outputs": [],
   "source": [
    "src_list =tokenizer_en(src)\n",
    "src_ids = [vocab_en[i] for i in src_list]\n",
    "src_ids=torch.tensor(src_ids).to(\"cuda:0\")\n",
    "# when you can name it, you get the power over it\n",
    "src_ids"
   ]
  },
  {
   "cell_type": "code",
   "execution_count": null,
   "metadata": {},
   "outputs": [],
   "source": [
    "[i*2 for i in range(5)]"
   ]
  },
  {
   "cell_type": "code",
   "execution_count": null,
   "metadata": {},
   "outputs": [],
   "source": [
    "import torch\n",
    "from torch.nn.utils.rnn import pad_sequence\n",
    "\n",
    "def collate_batch(batch):\n",
    "    \n",
    "    de_batch, en_batch = [], []\n",
    "    for de, en in batch:\n",
    "        # 德语端添加 <bos> 和 <eos>\n",
    "        de_processed = [vocab_de['<bos>']] + vocab_de(tokenizer_de(de)) + [vocab_de['<eos>']]\n",
    "        # 英语端同理\n",
    "        en_processed = [vocab_en['<bos>']] + vocab_en(tokenizer_en(en)) + [vocab_en['<eos>']]\n",
    "        \n",
    "        de_batch.append(torch.tensor(de_processed, dtype=torch.long))\n",
    "        en_batch.append(torch.tensor(en_processed, dtype=torch.long))\n",
    "    \n",
    "    # 填充到相同长度\n",
    "    de_padded = pad_sequence(de_batch, padding_value=vocab_de['<pad>'])\n",
    "    en_padded = pad_sequence(en_batch, padding_value=vocab_en['<pad>'])\n",
    "\n",
    "    return de_padded, en_padded"
   ]
  },
  {
   "cell_type": "code",
   "execution_count": null,
   "metadata": {},
   "outputs": [],
   "source": [
    "BATCH_SIZE = 64\n",
    "\n",
    "# 重新加载数据集（因为迭代器只能遍历一次）\n",
    "train_iter = Multi30k(split='train', language_pair=('de', 'en'))\n",
    "valid_iter = Multi30k(split='valid', language_pair=('de', 'en'))\n",
    "\n",
    "train_loader = DataLoader(\n",
    "    list(train_iter),  # 转换为列表（Multi30k 是迭代器）\n",
    "    batch_size=BATCH_SIZE,\n",
    "    shuffle=True,\n",
    "    collate_fn=collate_batch\n",
    ")\n",
    "\n",
    "valid_loader = DataLoader(\n",
    "    list(valid_iter),\n",
    "    batch_size=BATCH_SIZE,\n",
    "    collate_fn=collate_batch\n",
    ")"
   ]
  },
  {
   "cell_type": "code",
   "execution_count": 26,
   "metadata": {},
   "outputs": [
    {
     "name": "stdout",
     "output_type": "stream",
     "text": [
      "德语张量形状: torch.Size([24, 64])\n",
      "英语张量形状: torch.Size([23, 64])\n"
     ]
    }
   ],
   "source": [
    "for de, en in train_loader:\n",
    "    print(f\"德语张量形状: {de.shape}\")  # (seq_len, batch_size)\n",
    "    print(f\"英语张量形状: {en.shape}\")\n",
    "    break"
   ]
  }
 ],
 "metadata": {
  "kernelspec": {
   "display_name": "last",
   "language": "python",
   "name": "python3"
  },
  "language_info": {
   "codemirror_mode": {
    "name": "ipython",
    "version": 3
   },
   "file_extension": ".py",
   "mimetype": "text/x-python",
   "name": "python",
   "nbconvert_exporter": "python",
   "pygments_lexer": "ipython3",
   "version": "3.9.21"
  }
 },
 "nbformat": 4,
 "nbformat_minor": 2
}
